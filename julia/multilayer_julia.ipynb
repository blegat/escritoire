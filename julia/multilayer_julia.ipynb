{
 "cells": [
  {
   "cell_type": "code",
   "execution_count": 1,
   "metadata": {
    "collapsed": false
   },
   "outputs": [
    {
     "data": {
      "text/plain": [
       "parameters (generic function with 1 method)"
      ]
     },
     "execution_count": 1,
     "metadata": {
     },
     "output_type": "execute_result"
    }
   ],
   "source": [
    "function parameters(lamda::Complex128, mu::Complex128, rho::Float64, omega::Float64, k::Float64)\n",
    "\n",
    "    alpha = sqrt((lamda+2*mu)/rho)\n",
    "    beta  = sqrt(mu/rho)\n",
    "\n",
    "    # P-wave velocity:\n",
    "    p = sqrt(1-(omega/(k*alpha))^2 + 0im)\n",
    "\n",
    "    # S-wave velocity:\n",
    "    s = sqrt(1-(omega/(k*beta))^2  + 0im)\n",
    "\n",
    "    kp = k*p\n",
    "    ks = k*s\n",
    "\n",
    "    return p, s, kp, ks, alpha, beta\n",
    "end"
   ]
  },
  {
   "cell_type": "code",
   "execution_count": 2,
   "metadata": {
    "collapsed": false
   },
   "outputs": [
    {
     "data": {
      "text/plain": [
       "klayer_h0 (generic function with 1 method)"
      ]
     },
     "execution_count": 2,
     "metadata": {
     },
     "output_type": "execute_result"
    }
   ],
   "source": [
    "@inline function klayer_h0(k::Float64, omega::Float64, lamda::Complex128, mu::Complex128, rho::Float64)\n",
    "\n",
    "    (p, s, kp, ks, alpha, beta) = parameters(lamda, mu,  rho,  omega, k)\n",
    "\n",
    "    # ordered by lines [[1,2][3,4]] -> [1,2,3,4]\n",
    "    K = Vector{Complex128}(4)\n",
    "\n",
    "    K[1] = (1-s*s)/(2*(1-p*s))*p\n",
    "    K[2] = -(1-s*s)/(2*(1-p*s)) + 1\n",
    "    K[3] = K[2]\n",
    "    K[4] = (1-s*s)/(2*(1-p*s))*s\n",
    "\n",
    "    K .*= 2*k*mu\n",
    "\n",
    "    return K\n",
    "end"
   ]
  },
  {
   "cell_type": "code",
   "execution_count": 3,
   "metadata": {
    "collapsed": false
   },
   "outputs": [
    {
     "data": {
      "text/plain": [
       "layer_k (generic function with 1 method)"
      ]
     },
     "execution_count": 3,
     "metadata": {
     },
     "output_type": "execute_result"
    }
   ],
   "source": [
    "@inline function layer_k(k::Float64, omega::Float64, lamda::Complex128, mu::Complex128, rho::Float64, h::Float64)\n",
    "\n",
    "    (p, s, kp, ks, alpha, beta) = parameters(lamda, mu,  rho,  omega, k)\n",
    "\n",
    "    # ordered by lines [[1,2][3,4]] -> [1,2,3,4]\n",
    "    K = Vector{Complex128}(16)\n",
    "\n",
    "    a = real(kp) * h\n",
    "    b = imag(kp) * h\n",
    "    c = real(ks) * h\n",
    "    d = imag(ks) * h\n",
    "\n",
    "    C1 = 0.5*( (1+exp(-2*a))*cos(b) +1im*(1-exp(-2*a))*sin(b) )\n",
    "    C2 = 0.5*( (1+exp(-2*c))*cos(d) +1im*(1-exp(-2*c))*sin(d) )\n",
    "    S1 = 0.5*( (1-exp(-2*a))*cos(b) +1im*(1+exp(-2*a))*sin(b) )\n",
    "    S2 = 0.5*( (1-exp(-2*c))*cos(d) +1im*(1+exp(-2*c))*sin(d) )\n",
    "\n",
    "    denom = 2*(exp(-a-c)-C1*C2) + (1/(p*s) +p*s)*S1*S2\n",
    "\n",
    "    # K:\n",
    "\n",
    "    # K11  K12\n",
    "    # K21  K22\n",
    "\n",
    "    # 0   1   2   3  #\n",
    "    # 4   5   6   7  #\n",
    "    # 8   9   10  11 #\n",
    "    # 12  13  14  15 #\n",
    "\n",
    "    # K11\n",
    "\n",
    "    K[1] = (1-s*s)*0.5 * ((1/s)*C1*S2 - p*C2*S1)/denom\n",
    "    K[2] = (1-s*s)*0.5 * ( exp(-a-c) - C1*C2 + p*s*S1*S2)/denom + (1+s*s)/2\n",
    "    K[5] = K[2]\n",
    "    K[6] = (1-s*s)*0.5 *((1/p)*C2*S1 - s*C1*S2)/denom\n",
    "\n",
    "    # K22 same as K11 with off-diagonal signs reversed\n",
    "    K[11] =  K[1]\n",
    "    K[12] = -K[2]\n",
    "    K[15] = -K[5]\n",
    "    K[16] =  K[6]\n",
    "\n",
    "    # K12\n",
    "    K[3] = (1-s*s) * 0.5*(p*S1*exp(-c) - (1/s)*S2*exp(-a))/denom\n",
    "    K[4] = (1-s*s) * 0.5*( C1*exp(-c) - C2*exp(-a) )/denom\n",
    "    K[7] = -K[4]\n",
    "    K[8] = (1-s*s) * 0.5*(s*S2*exp(-a) - (1/p)*S1*exp(-c))/denom\n",
    "\n",
    "    # K21\n",
    "    K[9]  = K[3]\n",
    "    K[10] = K[7]\n",
    "    K[13] = K[4]\n",
    "    K[14] = K[8]\n",
    "\n",
    "    K .*= 2*k*mu\n",
    "\n",
    "    return K\n",
    "end"
   ]
  },
  {
   "cell_type": "code",
   "execution_count": 4,
   "metadata": {
    "collapsed": false
   },
   "outputs": [
    {
     "data": {
      "text/plain": [
       "fc_soil_multilayer_matrix (generic function with 1 method)"
      ]
     },
     "execution_count": 4,
     "metadata": {
     },
     "output_type": "execute_result"
    }
   ],
   "source": [
    "function fc_soil_multilayer_matrix(k::Float64, omega::Float64, lamda::Vector{Complex128}, G::Vector{Complex128}, rho::Vector{Float64}, h::Vector{Float64})\n",
    "\n",
    "    # number of layers:\n",
    "    n_layers = length(h)\n",
    "\n",
    "    # size of the system of equations for the SP-waves problem:\n",
    "    size_SP_system = 2*n_layers\n",
    "\n",
    "    # preallocations\n",
    "    # int ii, jj, kk, iii,jjj\n",
    "    cols   = Vector{Int64}(16)\n",
    "    colsh0 = Vector{Int64}(4)\n",
    "    rows   = Vector{Int64}(16)\n",
    "    rowsh0 = Vector{Int64}(4)\n",
    "\n",
    "    col    = Vector{Int64}()\n",
    "    row    = Vector{Int64}()\n",
    "\n",
    "    K      = zeros(Complex128, size_SP_system, size_SP_system)\n",
    "    invK   = zeros(Complex128, size_SP_system, size_SP_system)\n",
    "\n",
    "\n",
    "    #cdef double complex nc\n",
    "\n",
    "    klayer0 = Vector{Complex128}(4)\n",
    "    klaery  = Vector{Complex128}(16)\n",
    "\n",
    "    #K = ndarray(shape=(size_SP_system,size_SP_system), dtype=float, order='F')\n",
    "\n",
    "    rows = [0,0,0,0,1,1,1,1,2,2,2,2,3,3,3,3]\n",
    "    cols = [0,1,2,3,0,1,2,3,0,1,2,3,0,1,2,3]\n",
    "\n",
    "    rowsh0 = [0,0,1,1]\n",
    "    colsh0 = [0,1,0,1]\n",
    "\n",
    "    @inbounds for ii in 1:n_layers\n",
    "\n",
    "        if h[ii]==0\n",
    "\n",
    "            klayerh0 = klayer_h0(k, omega,  lamda[ii], G[ii], rho[ii])\n",
    "\n",
    "            # Assembly in global matrix:\n",
    "            for jj in 1:4\n",
    "\n",
    "                nc = klayerh0[jj]\n",
    "                iii = rowsh0[jj]+2*ii-1\n",
    "                jjj = colsh0[jj]+2*ii-1\n",
    "                K[iii, jjj] .+= nc\n",
    "            end\n",
    "\n",
    "        else\n",
    "\n",
    "            klayer = layer_k(k, omega, lamda[ii], G[ii], rho[ii], h[ii])\n",
    "\n",
    "            # Assembly in global matrix:\n",
    "            for jj in 1:16\n",
    "\n",
    "                nc = klayer[jj]\n",
    "                iii = rows[jj]+2*ii-1\n",
    "                jjj = cols[jj]+2*ii-1\n",
    "                K[iii, jjj] .+= nc\n",
    "            end\n",
    "        end\n",
    "    end\n",
    "\n",
    "    invK = inv(K)\n",
    "\n",
    "    flex_coef = invK[2, 2]\n",
    "\n",
    "    return K, flex_coef\n",
    "end"
   ]
  },
  {
   "cell_type": "code",
   "execution_count": 5,
   "metadata": {
    "collapsed": false
   },
   "outputs": [
    {
     "data": {
      "text/plain": [
       "(Complex{Float64}[633096.0+0.0im -98376.1+0.0im … 0.0+0.0im 0.0+0.0im; -98376.1+0.0im 1.95501e6+0.0im … 0.0+0.0im 0.0+0.0im; … ; 0.0+0.0im 0.0+0.0im … 2.46526e6+0.0im 4.97401e5+0.0im; 0.0+0.0im 0.0+0.0im … 4.97401e5+0.0im 5.1068e6+0.0im], 1.3562693721523242e-6 + 0.0im)"
      ]
     },
     "execution_count": 5,
     "metadata": {
     },
     "output_type": "execute_result"
    }
   ],
   "source": [
    "bb    = [1,2,3,4,5]\n",
    "k     = 0.5\n",
    "omega = 1.\n",
    "lamda = Complex128[1e6,2e6,3e6]\n",
    "G     = Complex128[1e6,2e6,3e6]/2.\n",
    "rho   = Float64[2e3,2e3,2e3]\n",
    "h     = [1.,1,0]\n",
    "K, flex_coef = fc_soil_multilayer_matrix(k, omega, lamda, G, rho, h)"
   ]
  },
  {
   "cell_type": "code",
   "execution_count": 6,
   "metadata": {
    "collapsed": false
   },
   "outputs": [
    {
     "data": {
      "text/plain": [
       "1.3562693721523242e-6 + 0.0im"
      ]
     },
     "execution_count": 6,
     "metadata": {
     },
     "output_type": "execute_result"
    }
   ],
   "source": [
    "flex_coef"
   ]
  },
  {
   "cell_type": "code",
   "execution_count": 7,
   "metadata": {
    "collapsed": false
   },
   "outputs": [
   ],
   "source": [
    "using TimeIt"
   ]
  },
  {
   "cell_type": "code",
   "execution_count": 8,
   "metadata": {
    "collapsed": false
   },
   "outputs": [
    {
     "name": "stdout",
     "output_type": "stream",
     "text": [
      "10000 loops, best of 3: "
     ]
    },
    {
     "name": "stdout",
     "output_type": "stream",
     "text": [
      "89.42 µs per loop\n"
     ]
    },
    {
     "data": {
      "text/plain": [
       "8.94207791e-5"
      ]
     },
     "execution_count": 8,
     "metadata": {
     },
     "output_type": "execute_result"
    }
   ],
   "source": [
    "@timeit fc_soil_multilayer_matrix(k, omega, lamda, G, rho, h)"
   ]
  },
  {
   "cell_type": "code",
   "execution_count": 9,
   "metadata": {
    "collapsed": false
   },
   "outputs": [
   ],
   "source": [
    "using Compat, BenchmarkTools"
   ]
  },
  {
   "cell_type": "code",
   "execution_count": 10,
   "metadata": {
    "collapsed": false
   },
   "outputs": [
    {
     "data": {
      "text/plain": [
       "BenchmarkTools.Trial: \n",
       "  memory estimate:  18.27 KiB\n",
       "  allocs estimate:  208\n",
       "  --------------\n",
       "  minimum time:     13.533 μs (0.00% GC)\n",
       "  median time:      17.397 μs (0.00% GC)\n",
       "  mean time:        116.401 μs (1.88% GC)\n",
       "  maximum time:     91.776 ms (0.00% GC)\n",
       "  --------------\n",
       "  samples:          10000\n",
       "  evals/sample:     1"
      ]
     },
     "execution_count": 10,
     "metadata": {
     },
     "output_type": "execute_result"
    }
   ],
   "source": [
    "@benchmark fc_soil_multilayer_matrix(k, omega, lamda, G, rho, h)"
   ]
  }
 ],
 "metadata": {
  "kernelspec": {
   "display_name": "Julia",
   "language": "julia",
   "name": "julia"
  },
  "language_info": {
   "file_extension": ".jl",
   "mimetype": "application/julia",
   "name": "julia",
   "version": "0.6.0"
  }
 },
 "nbformat": 4,
 "nbformat_minor": 0
}