{
 "cells": [
  {
   "cell_type": "code",
   "execution_count": 3,
   "metadata": {
    "collapsed": false
   },
   "outputs": [
    {
     "data": {
      "text/plain": [
       "parameters (generic function with 1 method)"
      ]
     },
     "execution_count": 3,
     "metadata": {
     },
     "output_type": "execute_result"
    }
   ],
   "source": [
    "function parameters(lamda::Complex128, mu::Complex128, rho::Float64, omega::Float64, k::Float64)\n",
    "\n",
    "    alpha = sqrt((lamda+2*mu)/rho)\n",
    "    beta  = sqrt(mu/rho)\n",
    "\n",
    "    # P-wave velocity:\n",
    "    p = sqrt(1-(omega/(k*alpha))^2 + 0im)\n",
    "\n",
    "    # S-wave velocity:\n",
    "    s = sqrt(1-(omega/(k*beta))^2  + 0im)\n",
    "\n",
    "    kp = k*p\n",
    "    ks = k*s\n",
    "\n",
    "    return p, s, kp, ks, alpha, beta\n",
    "end"
   ]
  },
  {
   "cell_type": "code",
   "execution_count": 4,
   "metadata": {
    "collapsed": false
   },
   "outputs": [
    {
     "data": {
      "text/plain": [
       "klayer_h0 (generic function with 1 method)"
      ]
     },
     "execution_count": 4,
     "metadata": {
     },
     "output_type": "execute_result"
    }
   ],
   "source": [
    "@inline function klayer_h0(k::Float64, omega::Float64, lamda::Complex128, mu::Complex128, rho::Float64)\n",
    "\n",
    "    (p, s, kp, ks, alpha, beta) = parameters(lamda, mu,  rho,  omega, k)\n",
    "\n",
    "    # ordered by lines [[1,2][3,4]] -> [1,2,3,4]\n",
    "    K = Vector{Complex128}(4)\n",
    "\n",
    "    K[1] = (1-s*s)/(2*(1-p*s))*p\n",
    "    K[2] = -(1-s*s)/(2*(1-p*s)) + 1\n",
    "    K[3] = K[2]\n",
    "    K[4] = (1-s*s)/(2*(1-p*s))*s\n",
    "\n",
    "    K .*= 2*k*mu\n",
    "\n",
    "    return K\n",
    "end"
   ]
  },
  {
   "cell_type": "code",
   "execution_count": 5,
   "metadata": {
    "collapsed": false
   },
   "outputs": [
    {
     "data": {
      "text/plain": [
       "layer_k (generic function with 1 method)"
      ]
     },
     "execution_count": 5,
     "metadata": {
     },
     "output_type": "execute_result"
    }
   ],
   "source": [
    "@inline function layer_k(k::Float64, omega::Float64, lamda::Complex128, mu::Complex128, rho::Float64, h::Float64)\n",
    "\n",
    "    (p, s, kp, ks, alpha, beta) = parameters(lamda, mu,  rho,  omega, k)\n",
    "\n",
    "    # ordered by lines [[1,2][3,4]] -> [1,2,3,4]\n",
    "    K = Vector{Complex128}(16)\n",
    "\n",
    "    a = real(kp) * h\n",
    "    b = imag(kp) * h\n",
    "    c = real(ks) * h\n",
    "    d = imag(ks) * h\n",
    "\n",
    "    C1 = 0.5*( (1+exp(-2*a))*cos(b) +1im*(1-exp(-2*a))*sin(b) )\n",
    "    C2 = 0.5*( (1+exp(-2*c))*cos(d) +1im*(1-exp(-2*c))*sin(d) )\n",
    "    S1 = 0.5*( (1-exp(-2*a))*cos(b) +1im*(1+exp(-2*a))*sin(b) )\n",
    "    S2 = 0.5*( (1-exp(-2*c))*cos(d) +1im*(1+exp(-2*c))*sin(d) )\n",
    "\n",
    "    denom = 2*(exp(-a-c)-C1*C2) + (1/(p*s) +p*s)*S1*S2\n",
    "\n",
    "    # K:\n",
    "\n",
    "    # K11  K12\n",
    "    # K21  K22\n",
    "\n",
    "    # 0   1   2   3  #\n",
    "    # 4   5   6   7  #\n",
    "    # 8   9   10  11 #\n",
    "    # 12  13  14  15 #\n",
    "\n",
    "    # K11\n",
    "\n",
    "    K[1] = (1-s*s)*0.5 * ((1/s)*C1*S2 - p*C2*S1)/denom\n",
    "    K[2] = (1-s*s)*0.5 * ( exp(-a-c) - C1*C2 + p*s*S1*S2)/denom + (1+s*s)/2\n",
    "    K[5] = K[2]\n",
    "    K[6] = (1-s*s)*0.5 *((1/p)*C2*S1 - s*C1*S2)/denom\n",
    "\n",
    "    # K22 same as K11 with off-diagonal signs reversed\n",
    "    K[11] =  K[1]\n",
    "    K[12] = -K[2]\n",
    "    K[15] = -K[5]\n",
    "    K[16] =  K[6]\n",
    "\n",
    "    # K12\n",
    "    K[3] = (1-s*s) * 0.5*(p*S1*exp(-c) - (1/s)*S2*exp(-a))/denom\n",
    "    K[4] = (1-s*s) * 0.5*( C1*exp(-c) - C2*exp(-a) )/denom\n",
    "    K[7] = -K[4]\n",
    "    K[8] = (1-s*s) * 0.5*(s*S2*exp(-a) - (1/p)*S1*exp(-c))/denom\n",
    "\n",
    "    # K21\n",
    "    K[9]  = K[3]\n",
    "    K[10] = K[7]\n",
    "    K[13] = K[4]\n",
    "    K[14] = K[8]\n",
    "\n",
    "    K .*= 2*k*mu\n",
    "\n",
    "    return K\n",
    "end"
   ]
  },
  {
   "cell_type": "code",
   "execution_count": 13,
   "metadata": {
    "collapsed": false
   },
   "outputs": [
    {
     "data": {
      "text/plain": [
       "fc_soil_multilayer_matrix (generic function with 1 method)"
      ]
     },
     "execution_count": 13,
     "metadata": {
     },
     "output_type": "execute_result"
    }
   ],
   "source": [
    "function fc_soil_multilayer_matrix(k::Float64, omega::Float64, lamda::Vector{Complex128}, G::Vector{Complex128}, rho::Vector{Float64}, h::Vector{Float64})\n",
    "\n",
    "    # number of layers:\n",
    "    n_layers = length(h)\n",
    "\n",
    "    # size of the system of equations for the SP-waves problem:\n",
    "    size_SP_system = 2*n_layers\n",
    "\n",
    "    # preallocations\n",
    "    K      = zeros(Complex128, size_SP_system, size_SP_system)\n",
    "    invK   = zeros(Complex128, size_SP_system, size_SP_system)\n",
    "\n",
    "    rows = [0,0,0,0,1,1,1,1,2,2,2,2,3,3,3,3]\n",
    "    cols = [0,1,2,3,0,1,2,3,0,1,2,3,0,1,2,3]\n",
    "\n",
    "    rowsh0 = [0,0,1,1]\n",
    "    colsh0 = [0,1,0,1]\n",
    "\n",
    "    @inbounds for ii in 1:n_layers\n",
    "\n",
    "        if h[ii]==0\n",
    "\n",
    "            klayerh0 = klayer_h0(k, omega,  lamda[ii], G[ii], rho[ii])\n",
    "\n",
    "            # Assembly in global matrix:\n",
    "            for jj in 1:4\n",
    "\n",
    "                nc = klayerh0[jj]\n",
    "                iii = rowsh0[jj]+2*ii-1\n",
    "                jjj = colsh0[jj]+2*ii-1\n",
    "                K[iii, jjj] .+= nc\n",
    "            end\n",
    "\n",
    "        else\n",
    "\n",
    "            klayer = layer_k(k, omega, lamda[ii], G[ii], rho[ii], h[ii])\n",
    "\n",
    "            # Assembly in global matrix:\n",
    "            for jj in 1:16\n",
    "\n",
    "                nc = klayer[jj]\n",
    "                iii = rows[jj]+2*ii-1\n",
    "                jjj = cols[jj]+2*ii-1\n",
    "                K[iii, jjj] .+= nc\n",
    "            end\n",
    "        end\n",
    "    end\n",
    "\n",
    "    invK = inv(K)\n",
    "\n",
    "    flex_coef = invK[2, 2]\n",
    "\n",
    "    return K, flex_coef\n",
    "end"
   ]
  },
  {
   "cell_type": "code",
   "execution_count": 14,
   "metadata": {
    "collapsed": false
   },
   "outputs": [
    {
     "data": {
      "text/plain": [
       "(Complex{Float64}[633096.0+0.0im -98376.1+0.0im … 0.0+0.0im 0.0+0.0im; -98376.1+0.0im 1.95501e6+0.0im … 0.0+0.0im 0.0+0.0im; … ; 0.0+0.0im 0.0+0.0im … 2.46526e6+0.0im 4.97401e5+0.0im; 0.0+0.0im 0.0+0.0im … 4.97401e5+0.0im 5.1068e6+0.0im], 1.3562693721523242e-6 + 0.0im)"
      ]
     },
     "execution_count": 14,
     "metadata": {
     },
     "output_type": "execute_result"
    }
   ],
   "source": [
    "bb    = [1,2,3,4,5]\n",
    "k     = 0.5\n",
    "omega = 1.\n",
    "lamda = Complex128[1e6,2e6,3e6]\n",
    "G     = Complex128[1e6,2e6,3e6]/2.\n",
    "rho   = Float64[2e3,2e3,2e3]\n",
    "h     = [1.,1,0]\n",
    "K, flex_coef = fc_soil_multilayer_matrix(k, omega, lamda, G, rho, h)"
   ]
  },
  {
   "cell_type": "code",
   "execution_count": 15,
   "metadata": {
    "collapsed": false
   },
   "outputs": [
    {
     "data": {
      "text/plain": [
       "1.3562693721523242e-6 + 0.0im"
      ]
     },
     "execution_count": 15,
     "metadata": {
     },
     "output_type": "execute_result"
    }
   ],
   "source": [
    "flex_coef"
   ]
  },
  {
   "cell_type": "code",
   "execution_count": 16,
   "metadata": {
    "collapsed": false
   },
   "outputs": [
   ],
   "source": [
    "using TimeIt"
   ]
  },
  {
   "cell_type": "code",
   "execution_count": 17,
   "metadata": {
    "collapsed": false
   },
   "outputs": [
    {
     "name": "stdout",
     "output_type": "stream",
     "text": [
      "1000 loops, best of 3: 98.20 µs per loop\n"
     ]
    },
    {
     "data": {
      "text/plain": [
       "9.819837400000001e-5"
      ]
     },
     "execution_count": 17,
     "metadata": {
     },
     "output_type": "execute_result"
    }
   ],
   "source": [
    "@timeit fc_soil_multilayer_matrix(k, omega, lamda, G, rho, h)"
   ]
  },
  {
   "cell_type": "code",
   "execution_count": 18,
   "metadata": {
    "collapsed": false
   },
   "outputs": [
   ],
   "source": [
    "using Compat, BenchmarkTools"
   ]
  },
  {
   "cell_type": "code",
   "execution_count": 19,
   "metadata": {
    "collapsed": false
   },
   "outputs": [
    {
     "data": {
      "text/plain": [
       "BenchmarkTools.Trial: \n",
       "  memory estimate:  16.95 KiB\n",
       "  allocs estimate:  200\n",
       "  --------------\n",
       "  minimum time:     12.917 μs (0.00% GC)\n",
       "  median time:      16.375 μs (0.00% GC)\n",
       "  mean time:        120.687 μs (1.74% GC)\n",
       "  maximum time:     90.925 ms (0.00% GC)\n",
       "  --------------\n",
       "  samples:          10000\n",
       "  evals/sample:     1"
      ]
     },
     "execution_count": 19,
     "metadata": {
     },
     "output_type": "execute_result"
    }
   ],
   "source": [
    "@benchmark fc_soil_multilayer_matrix(k, omega, lamda, G, rho, h)"
   ]
  },
  {
   "cell_type": "markdown",
   "metadata": {
    "collapsed": false
   },
   "source": [
    "**Conclusion:** The runtime of this implementation is **between 6x and 10x faster than the NumPy/Cython implementation**. In terms of code length, in Julia it is considerably shorter for various reasons (in principle one does not need to annotate the variable types at all). To translate the Python code to Julia it was straightforward. I have checked that the output of `fc_soil_multilayer_matrix` is the same in both implementations.\n",
    "\n",
    "More precisely, these remarks this shoud be taken into account:\n",
    "\n",
    "- 1-based arrays in Julia verus 0-based arrays in Python.\n",
    "- Power operation in Julia is `^` instead of `**` in Python.\n",
    "- In Julia you should always use a closing \"end\" keyword after if clauses, functions and for clauses.\n",
    "- In Julia, the double dot notation is used to annotate value types, for instance `rho::Float64` says to the compiler that the variable `rho` should be a 64-bit floating point number.\n",
    "- In-place operations in Julia are built using the so-called \"dot-fusion\" technique. For instance, use `K .*= 2*k*mu` to multiply `K` with `2*k*mu` inplace (i.e. without extraneous allocations).\n",
    "- The `@inline` macro (this is optional) provides a little boost in performance by inlining the given function (though Julia does it automatically in some cases).\n",
    "- The `@inbounds` macro (this is optional) disables bounds checks in for loops."
   ]
  }
 ],
 "metadata": {
  "kernelspec": {
   "display_name": "Julia",
   "language": "julia",
   "name": "julia"
  },
  "language_info": {
   "file_extension": ".jl",
   "mimetype": "application/julia",
   "name": "julia",
   "version": "0.6.0"
  }
 },
 "nbformat": 4,
 "nbformat_minor": 0
}