{
 "cells": [
  {
   "cell_type": "markdown",
   "metadata": {
    "deletable": true,
    "editable": true
   },
   "source": [
    "# Moment sequences supported in a semi-algebraic set and $L^p(\\mathbf{K})$ density"
   ]
  },
  {
   "cell_type": "code",
   "execution_count": 8,
   "metadata": {
    "collapsed": true,
    "deletable": true,
    "editable": true
   },
   "outputs": [],
   "source": [
    "%display typeset"
   ]
  },
  {
   "cell_type": "markdown",
   "metadata": {
    "deletable": true,
    "editable": true
   },
   "source": [
    "$\\def\\S{\\mathbf{S}}$\n",
    "$\\def\\A{\\mathbf{A}}$\n",
    "$\\def\\b{\\mathbf{b}}$\n",
    "$\\def\\B{\\mathbf{B}}$\n",
    "$\\def\\K{\\mathbf{K}}$\n",
    "$\\def\\G{\\mathbf{G}}$\n",
    "$\\def\\S{\\mathbf{S}}$\n",
    "$\\def\\V{\\mathbf{V}}$\n",
    "$\\def\\X{\\mathbf{X}}$\n",
    "$\\def\\Y{\\mathbf{Y}}$\n",
    "$\\def\\x{\\mathbf{x}}$\n",
    "$\\def\\y{\\mathbf{y}}$\n",
    "$\\def\\p{\\mathbf{p}}$\n",
    "$\\def\\z{\\mathbf{z}}$\n",
    "$\\def\\M{\\mathbf{M}}$\n",
    "$\\def\\Q{\\mathbf{Q}}$\n",
    "$\\newcommand{\\R}{\\mathbb{R}}$\n",
    "$\\newcommand{\\C}{\\mathbb{C}}$\n",
    "$\\newcommand{\\N}{\\mathbb{N}}$\n",
    "$\\newcommand{\\vol}{\\mathrm{vol}}$"
   ]
  },
  {
   "cell_type": "markdown",
   "metadata": {
    "deletable": true,
    "editable": true
   },
   "source": [
    "**Contents:**\n",
    "1. [Introduction](#1.-Introduction)\n",
    "2. [Computation of $z_{q,\\alpha}$](#2.-Computation-of-$z_{q,\\alpha}$)\n",
    "3. [$L^q$ norm of a polynomial](#3.-$L^q$-norm-of-a-polynomial)"
   ]
  },
  {
   "cell_type": "markdown",
   "metadata": {},
   "source": [
    "**Keywords / SageMath :**\n",
    "\n",
    "- numerical integrals\n",
    "- exact integration over `RealSets` and `Polyhedron` objects\n",
    "- univariate and multivariate polynomials"
   ]
  },
  {
   "cell_type": "markdown",
   "metadata": {
    "deletable": true,
    "editable": true
   },
   "source": [
    "## 1. Introduction"
   ]
  },
  {
   "cell_type": "markdown",
   "metadata": {
    "deletable": true,
    "editable": true
   },
   "source": [
    "Consider the polynomial $f \\in \\R[\\x]$, that we write as the finite sum \n",
    "$f(x) = \\sum_\\alpha f_\\alpha \\x^\\alpha$, for some set of coefficients $(f_\\alpha)$ indexed by a multi-index $\\alpha \\in \\N^n$. Here $\\x^\\alpha := x_1^{\\alpha_1}\\cdots x_n^{\\alpha_n}$.\n",
    "\n",
    "Let there be given an (infinite) sequence of real numbers $\\y = (y_\\alpha)$. Consider the linear functional $\\ell_\\y : \\R[\\x] \\to \\R$, which maps $f$ to $\\ell_\\y(f) = \\sum_\\alpha f_\\alpha y_\\alpha$, for any $f \\in \\R[\\x]$. \n",
    "\n",
    "**Remark.**\n",
    "This linear functional has the property that if the numerical sequence has an associated representing *measure*, then the application of the functional corresponds to integration with respect to the measure. Indeed, if $\\y$ is the moment sequence of Borel measure $\\mu$ supported on a compact basic semi-algebraic set $\\K$, then\n",
    "$$\n",
    "y_\\alpha = \\int_\\K x^\\alpha d\\mu(\\x),\n",
    "$$\n",
    "and in consequence for all polynomials $\\R[\\x]$,\n",
    "$$\n",
    "\\ell_\\y(f) = \\sum_\\alpha f_\\alpha y_\\alpha = \\sum_\\alpha \\int_\\K  f_\\alpha x^\\alpha d\\mu(\\x) = \\int_\\K f(x)d\\mu(\\x).\\qquad \\square\n",
    "$$"
   ]
  },
  {
   "cell_type": "markdown",
   "metadata": {
    "deletable": true,
    "editable": true
   },
   "source": [
    "In the sequel and for the sake of simplicity (and the experiments), we stick to the one-dimensional case $n=1$. We build an infinite sequence of real numbers $\\z_q = (z_{q,\\alpha})$ as follows. \n",
    "\n",
    "First, let $q \\in [1, \\infty]$ be given, and let $p = q/(q-1)$ be its conjugate number (they satisfy $1/p + 1/q = 1$). It also lives in $[1,\\infty]$, by definition. Let $\\K$ be a basic compact semi-algebraic set. For simplicity, we will often consider $\\K = [0, 1]$. Let the sequence $\\z_q = (z_{q,\\alpha})$ be defined as\n",
    "$$\n",
    "z_{q, \\alpha} := \\left(\\int_\\K x^{\\alpha q} dx\\right)^{1/q}.\n",
    "$$\n",
    "\n",
    "With these definitions, we can consider the linear functional as before:\n",
    "\n",
    "- $\\ell_{\\z_q}(f) = \\sum_\\alpha f_\\alpha z_{q,\\alpha}$, for any $f \\in \\R[x]$,\n",
    "- in the particular case $q=1$, one recovers the moments of the standard Lebesgue measure and $\\ell_\\z(f) = \\sum_\\alpha f_\\alpha z_\\alpha$, for any $f \\in \\R[x]$ is the usual integral of $f$."
   ]
  },
  {
   "cell_type": "markdown",
   "metadata": {
    "deletable": true,
    "editable": true
   },
   "source": [
    "**Remark.** Notice that for $q>1$ the moments are in general complex, see the example below. "
   ]
  },
  {
   "cell_type": "code",
   "execution_count": 3,
   "metadata": {
    "collapsed": false,
    "deletable": true,
    "editable": true
   },
   "outputs": [
    {
     "data": {
      "text/html": [
       "<html><script type=\"math/tex; mode=display\">\\newcommand{\\Bold}[1]{\\mathbf{#1}}-\\frac{2}{5} i + \\frac{2}{5}</script></html>"
      ],
      "text/plain": [
       "-2/5*I + 2/5"
      ]
     },
     "execution_count": 3,
     "metadata": {},
     "output_type": "execute_result"
    }
   ],
   "source": [
    "# Example: integral in K = [0, 1] for q = 3/2 (corresponding to p = 2)\n",
    "integrate(exp(3/2*log(x)), x, -1, 1)"
   ]
  },
  {
   "cell_type": "markdown",
   "metadata": {
    "deletable": true,
    "editable": true
   },
   "source": [
    "For this reason and for simplicity, if possible we scale the dynamics to the first orthant, or just $[0,1]^n$. In the latter case, one has the formula\n",
    "$$\n",
    "z_{q, \\alpha} = \\left(\\int_{\\K=[0,1]^n} x_1^{\\alpha_1 q}\\cdots x_n^{\\alpha_n q} dx\\right)^{1/q} =\n",
    "\\prod_{i=1}^n \\frac{1}{(1+\\alpha_i q)^{1/q}}.\n",
    "$$"
   ]
  },
  {
   "cell_type": "markdown",
   "metadata": {
    "deletable": true,
    "editable": true
   },
   "source": [
    "## 2. Computation of $z_{q,\\alpha}$"
   ]
  },
  {
   "cell_type": "markdown",
   "metadata": {
    "deletable": true,
    "editable": true
   },
   "source": [
    "If $\\K = [0, 1]^n$ we use the analytic formula of above, but what if $\\K$ is slighly more general set? (eg. a polytope). In this case, an analytic formula is often not available.\n",
    "\n",
    "To compute the moment integrals $z_{q,\\alpha}$, Sage provides two obvious ways:\n",
    "\n",
    "- Numerical (inexact) computation using `numerical_integral` (using an adaptive integration algorithm).\n",
    "- Exact computation of a polynomial over a polytope (using [LattE integrale](https://www.math.ucdavis.edu/~latte/software.php)).\n",
    "\n",
    "The issue with the 2nd option is that it only makes sense when $\\alpha q$ is an integer. "
   ]
  },
  {
   "cell_type": "markdown",
   "metadata": {
    "deletable": true,
    "editable": true
   },
   "source": [
    "#### Numerical computation"
   ]
  },
  {
   "cell_type": "code",
   "execution_count": 28,
   "metadata": {
    "collapsed": false,
    "deletable": true,
    "editable": true
   },
   "outputs": [
    {
     "data": {
      "text/html": [
       "<html><script type=\"math/tex; mode=display\">\\newcommand{\\Bold}[1]{\\mathbf{#1}}0.629960524947</script></html>"
      ],
      "text/plain": [
       "0.6299605249474366"
      ]
     },
     "execution_count": 28,
     "metadata": {},
     "output_type": "execute_result"
    }
   ],
   "source": [
    "K = RealSet([0, 1])[0]\n",
    "q = 3\n",
    "alpha = 1\n",
    "numerical_integral(x^(alpha*q), K.lower(), K.upper())[0]^(1/q)"
   ]
  },
  {
   "cell_type": "markdown",
   "metadata": {
    "deletable": true,
    "editable": true
   },
   "source": [
    "#### Exact computation"
   ]
  },
  {
   "cell_type": "code",
   "execution_count": 29,
   "metadata": {
    "collapsed": false,
    "deletable": true,
    "editable": true
   },
   "outputs": [],
   "source": [
    "x = polygen(QQ, 'x')\n",
    "x_alphaq = lambda alpha, q : x^(alpha*q)\n",
    "y = x_alphaq(alpha=1, q=3)"
   ]
  },
  {
   "cell_type": "code",
   "execution_count": 32,
   "metadata": {
    "collapsed": false,
    "deletable": true,
    "editable": true
   },
   "outputs": [
    {
     "data": {
      "text/html": [
       "<html><script type=\"math/tex; mode=display\">\\newcommand{\\Bold}[1]{\\mathbf{#1}}\\left(\\frac{1}{4}\\right)^{\\frac{1}{3}}</script></html>"
      ],
      "text/plain": [
       "(1/4)^(1/3)"
      ]
     },
     "execution_count": 32,
     "metadata": {},
     "output_type": "execute_result"
    }
   ],
   "source": [
    "Polyhedron(vertices=[[0], [1]]).integrate(y)^(1/q)"
   ]
  },
  {
   "cell_type": "code",
   "execution_count": 33,
   "metadata": {
    "collapsed": false,
    "deletable": true,
    "editable": true
   },
   "outputs": [
    {
     "data": {
      "text/html": [
       "<html><script type=\"math/tex; mode=display\">\\newcommand{\\Bold}[1]{\\mathbf{#1}}0.629960524947437</script></html>"
      ],
      "text/plain": [
       "0.629960524947437"
      ]
     },
     "execution_count": 33,
     "metadata": {},
     "output_type": "execute_result"
    }
   ],
   "source": [
    "_.n()"
   ]
  },
  {
   "cell_type": "markdown",
   "metadata": {
    "deletable": true,
    "editable": true
   },
   "source": [
    "But if we use $q=3/2$ (corresponding to $p=2$) then the exact computation fails (as expected), while the inexact computation gives:"
   ]
  },
  {
   "cell_type": "code",
   "execution_count": 34,
   "metadata": {
    "collapsed": false,
    "deletable": true,
    "editable": true
   },
   "outputs": [
    {
     "data": {
      "text/html": [
       "<html><script type=\"math/tex; mode=display\">\\newcommand{\\Bold}[1]{\\mathbf{#1}}0.542883523306</script></html>"
      ],
      "text/plain": [
       "0.5428835233063709"
      ]
     },
     "execution_count": 34,
     "metadata": {},
     "output_type": "execute_result"
    }
   ],
   "source": [
    "x = var('x')\n",
    "q = 3/2; alpha = 1\n",
    "numerical_integral(x^(alpha*q), K.lower(), K.upper())[0]^(1/q)"
   ]
  },
  {
   "cell_type": "markdown",
   "metadata": {
    "deletable": true,
    "editable": true
   },
   "source": [
    "It corresponds to the analytic solution,"
   ]
  },
  {
   "cell_type": "code",
   "execution_count": 37,
   "metadata": {
    "collapsed": false,
    "deletable": true,
    "editable": true
   },
   "outputs": [
    {
     "data": {
      "text/html": [
       "<html><script type=\"math/tex; mode=display\">\\newcommand{\\Bold}[1]{\\mathbf{#1}}\\frac{2}{5} \\, \\left(\\frac{5}{2}\\right)^{\\frac{1}{3}}</script></html>"
      ],
      "text/plain": [
       "2/5*(5/2)^(1/3)"
      ]
     },
     "execution_count": 37,
     "metadata": {},
     "output_type": "execute_result"
    }
   ],
   "source": [
    "(1+alpha*q)^(-1/q)"
   ]
  },
  {
   "cell_type": "code",
   "execution_count": 38,
   "metadata": {
    "collapsed": false,
    "deletable": true,
    "editable": true
   },
   "outputs": [
    {
     "data": {
      "text/html": [
       "<html><script type=\"math/tex; mode=display\">\\newcommand{\\Bold}[1]{\\mathbf{#1}}0.542883523318981</script></html>"
      ],
      "text/plain": [
       "0.542883523318981"
      ]
     },
     "execution_count": 38,
     "metadata": {},
     "output_type": "execute_result"
    }
   ],
   "source": [
    "_.n()"
   ]
  },
  {
   "cell_type": "markdown",
   "metadata": {
    "deletable": true,
    "editable": true
   },
   "source": [
    "#### Provide both approaches as a keyworded argument"
   ]
  },
  {
   "cell_type": "code",
   "execution_count": 465,
   "metadata": {
    "collapsed": false,
    "deletable": true,
    "editable": true
   },
   "outputs": [],
   "source": [
    "def moments_Zq(K=None, d=4, q=1, algorithm='numerical'):\n",
    "    \n",
    "    if K is None:\n",
    "        if algorithm == 'numerical':\n",
    "            # unit interval\n",
    "            K = RealSet([0, 1])[0]\n",
    "        elif algorithm == 'exact':\n",
    "            # unit polyhedron\n",
    "            K = Polyhedron(vertices=[[0], [1]])\n",
    "            \n",
    "    if algorithm == 'numerical':\n",
    "        # assuming K is a RealSet\n",
    "        x = SR.var('x')\n",
    "        xmin = K.lower(); xmax = K.upper()\n",
    "        x_alpha = []\n",
    "        for alpha in range(d):\n",
    "            x_alpha += [numerical_integral(x^(alpha*q), xmin, xmax)[0]^(1/q)]\n",
    "    \n",
    "    elif algorithm == 'exact':\n",
    "        # assuming K is a Polyhedron\n",
    "        if not q.is_integer():\n",
    "            raise ValueError(\"The exact algorithm requires integer q\")\n",
    "        x = polygen(QQ, 'x')\n",
    "        x_alphaq = lambda alpha, q : x^(alpha*q)\n",
    "        x_alpha = []\n",
    "        for alphai in range(d):\n",
    "            y = x_alphaq(alpha=alphai, q=q)\n",
    "            x_alpha += [K.integrate(y)^(1/q)]\n",
    "    \n",
    "    return x_alpha"
   ]
  },
  {
   "cell_type": "markdown",
   "metadata": {
    "deletable": true,
    "editable": true
   },
   "source": [
    "#### Some Examples:"
   ]
  },
  {
   "cell_type": "code",
   "execution_count": 466,
   "metadata": {
    "collapsed": false,
    "deletable": true,
    "editable": true
   },
   "outputs": [
    {
     "data": {
      "text/html": [
       "<html><script type=\"math/tex; mode=display\">\\newcommand{\\Bold}[1]{\\mathbf{#1}}\\left[1.0, 0.5, 0.333333333333, 0.25\\right]</script></html>"
      ],
      "text/plain": [
       "[1.0, 0.5, 0.3333333333333333, 0.25]"
      ]
     },
     "execution_count": 466,
     "metadata": {},
     "output_type": "execute_result"
    }
   ],
   "source": [
    "moments_Zq(RealSet([0, 1])[0], algorithm='numerical')"
   ]
  },
  {
   "cell_type": "code",
   "execution_count": 467,
   "metadata": {
    "collapsed": false,
    "deletable": true,
    "editable": true
   },
   "outputs": [
    {
     "data": {
      "text/html": [
       "<html><script type=\"math/tex; mode=display\">\\newcommand{\\Bold}[1]{\\mathbf{#1}}\\left[1, \\frac{1}{2}, \\frac{1}{3}, \\frac{1}{4}\\right]</script></html>"
      ],
      "text/plain": [
       "[1, 1/2, 1/3, 1/4]"
      ]
     },
     "execution_count": 467,
     "metadata": {},
     "output_type": "execute_result"
    }
   ],
   "source": [
    "moments_Zq(Polyhedron(vertices=[[0], [1]]), algorithm='exact')"
   ]
  },
  {
   "cell_type": "code",
   "execution_count": 468,
   "metadata": {
    "collapsed": false,
    "deletable": true,
    "editable": true
   },
   "outputs": [
    {
     "data": {
      "text/html": [
       "<html><script type=\"math/tex; mode=display\">\\newcommand{\\Bold}[1]{\\mathbf{#1}}\\left[1.0, 0.629960524947, 0.522757958575, 0.464158883361, 0.425290370283\\right]</script></html>"
      ],
      "text/plain": [
       "[1.0,\n",
       " 0.6299605249474366,\n",
       " 0.5227579585747102,\n",
       " 0.464158883361278,\n",
       " 0.4252903702829902]"
      ]
     },
     "execution_count": 468,
     "metadata": {},
     "output_type": "execute_result"
    }
   ],
   "source": [
    "moments_Zq(RealSet([0, 1])[0], 5, 3, algorithm='numerical')"
   ]
  },
  {
   "cell_type": "code",
   "execution_count": 469,
   "metadata": {
    "collapsed": false,
    "deletable": true,
    "editable": true
   },
   "outputs": [
    {
     "data": {
      "text/html": [
       "<html><script type=\"math/tex; mode=display\">\\newcommand{\\Bold}[1]{\\mathbf{#1}}\\left[1, \\left(\\frac{1}{4}\\right)^{\\frac{1}{3}}, \\left(\\frac{1}{7}\\right)^{\\frac{1}{3}}, \\left(\\frac{1}{10}\\right)^{\\frac{1}{3}}, \\left(\\frac{1}{13}\\right)^{\\frac{1}{3}}\\right]</script></html>"
      ],
      "text/plain": [
       "[1, (1/4)^(1/3), (1/7)^(1/3), (1/10)^(1/3), (1/13)^(1/3)]"
      ]
     },
     "execution_count": 469,
     "metadata": {},
     "output_type": "execute_result"
    }
   ],
   "source": [
    "moments_Zq(Polyhedron(vertices=[[0], [1]]), 5, 3, algorithm='exact')"
   ]
  },
  {
   "cell_type": "markdown",
   "metadata": {
    "deletable": true,
    "editable": true
   },
   "source": [
    "## 3. $L^q$ norm of a polynomial"
   ]
  },
  {
   "cell_type": "markdown",
   "metadata": {
    "deletable": true,
    "editable": true
   },
   "source": [
    "We seek to evaluate: \n",
    "\n",
    "- (i) $\\ell_{\\z_1}(|f|^q)^{1/q} = \\left( \\int_\\K |f|^q d\\lambda(x)\\right)^{1/q} = \\Vert f \\Vert_q$, which abusing notation is $\\left( \\sum_\\alpha z_{1, \\alpha} |\\sum_\\alpha f_\\alpha x^\\alpha|^q\\right)^{1/q}$. \n",
    "- (ii) $\\sum_{\\alpha} |f_\\alpha| z_{\\alpha, q}$\n",
    "\n",
    "for polynomials $f \\in \\R[x]$."
   ]
  },
  {
   "cell_type": "markdown",
   "metadata": {
    "deletable": true,
    "editable": true
   },
   "source": [
    "By the triangle inequality, we have\n",
    "$$\n",
    "\\left|\\ell_{\\z_q}(f)\\right| = \\left| \\sum_{\\alpha} f_\\alpha z_{\\alpha, q} \\right| \\leq \\sum_{\\alpha} |f_\\alpha| z_{\\alpha, q}.\n",
    "$$"
   ]
  },
  {
   "cell_type": "markdown",
   "metadata": {
    "deletable": true,
    "editable": true
   },
   "source": [
    "**Rappel** \n",
    "- *Holder's inequality* : $\\Vert fg \\Vert_1 \\leq \\Vert f\\Vert_p \\Vert g\\Vert_q$\n",
    "- *reverse Holder's inequality* : $\\Vert fg \\Vert_1 \\geq \\Vert f\\Vert_{1/p} \\Vert g\\Vert_{-1/(p-1)}$\n",
    "- *Lp embedding* : let $0< p < q \\leq \\infty$, then $\\Vert f \\Vert_p \\leq \\mu(X)^{1/p-1/q}\\Vert f \\Vert_q$. \n",
    "- the last one implies that if the measure of $X$ is finite, then $L^q \\subset L^1$ for any $q \\geq 1$.\n",
    "$\\square$"
   ]
  },
  {
   "cell_type": "markdown",
   "metadata": {
    "deletable": true,
    "editable": true
   },
   "source": [
    "Using reverse Holder's inequality,\n",
    "$$\n",
    "\\Vert f \\Vert_q \\geq \\dfrac{1}{\\vol(\\K)^{1-1/q}} \\sum_\\alpha |f_\\alpha| z_{\\alpha, 1}.\n",
    "$$\n",
    "\n",
    "But how does it compare to $\\left|\\ell_{\\z_q}(f)\\right|$?"
   ]
  },
  {
   "cell_type": "markdown",
   "metadata": {
    "deletable": true,
    "editable": true
   },
   "source": [
    "### Experiments"
   ]
  },
  {
   "cell_type": "markdown",
   "metadata": {
    "deletable": true,
    "editable": true
   },
   "source": [
    "#### Linear functional $\\ell_\\y(f)$"
   ]
  },
  {
   "cell_type": "markdown",
   "metadata": {
    "deletable": true,
    "editable": true
   },
   "source": [
    "Let write compute the linear functional with Sage."
   ]
  },
  {
   "cell_type": "code",
   "execution_count": 427,
   "metadata": {
    "collapsed": false,
    "deletable": true,
    "editable": true
   },
   "outputs": [],
   "source": [
    "# independent variable\n",
    "x, = polygens(SR, 'x')\n",
    "\n",
    "# coefficients (symbolic)\n",
    "f0, f1, f2 = SR.var(['f0', 'f1', 'f2'])\n",
    "\n",
    "f = f0 + f1*x + f2*x^2"
   ]
  },
  {
   "cell_type": "code",
   "execution_count": 428,
   "metadata": {
    "collapsed": false,
    "deletable": true,
    "editable": true
   },
   "outputs": [
    {
     "data": {
      "text/html": [
       "<html><script type=\"math/tex; mode=display\">\\newcommand{\\Bold}[1]{\\mathbf{#1}}\\left[\\left(\\frac{1}{4}\\right)^{\\frac{1}{3}}, \\left(\\frac{1}{7}\\right)^{\\frac{1}{3}}, \\left(\\frac{1}{10}\\right)^{\\frac{1}{3}}, \\left(\\frac{1}{13}\\right)^{\\frac{1}{3}}, \\frac{1}{2} \\, \\left(\\frac{1}{2}\\right)^{\\frac{1}{3}}, \\left(\\frac{1}{19}\\right)^{\\frac{1}{3}}, \\left(\\frac{1}{22}\\right)^{\\frac{1}{3}}, \\left(\\frac{1}{25}\\right)^{\\frac{1}{3}}\\right]</script></html>"
      ],
      "text/plain": [
       "[(1/4)^(1/3),\n",
       " (1/7)^(1/3),\n",
       " (1/10)^(1/3),\n",
       " (1/13)^(1/3),\n",
       " 1/2*(1/2)^(1/3),\n",
       " (1/19)^(1/3),\n",
       " (1/22)^(1/3),\n",
       " (1/25)^(1/3)]"
      ]
     },
     "execution_count": 428,
     "metadata": {},
     "output_type": "execute_result"
    }
   ],
   "source": [
    "# compute moments in [0, 1] for q = 3, up to order d = 8\n",
    "qmoments_degree_eight_q_three = moments_Zq(q=3, d=8, algorithm='exact')\n",
    "qmoments_degree_eight_q_three"
   ]
  },
  {
   "cell_type": "markdown",
   "metadata": {
    "deletable": true,
    "editable": true
   },
   "source": [
    "Let us compute $\\ell_{\\z_q}(f) = \\sum_\\alpha f_\\alpha z_{\\alpha, q}$."
   ]
  },
  {
   "cell_type": "code",
   "execution_count": 429,
   "metadata": {
    "collapsed": false,
    "deletable": true,
    "editable": true
   },
   "outputs": [],
   "source": [
    "def Ly(y, f, abs_elementwise=False):\n",
    "    \n",
    "    sum_abs_falpha = 0\n",
    "    \n",
    "    coeffs = f.coefficients()\n",
    "    \n",
    "    if abs_elementwise:\n",
    "        coeffs = [abs(fi) for fi in coeffs]\n",
    "        \n",
    "    for i, falpha in enumerate(coeffs):\n",
    "        z_alpha_q = y[i]\n",
    "        sum_abs_falpha += falpha * z_alpha_q\n",
    "    return sum_abs_falpha"
   ]
  },
  {
   "cell_type": "code",
   "execution_count": 430,
   "metadata": {
    "collapsed": false,
    "deletable": true,
    "editable": true
   },
   "outputs": [
    {
     "data": {
      "text/html": [
       "<html><script type=\"math/tex; mode=display\">\\newcommand{\\Bold}[1]{\\mathbf{#1}}\\left(\\frac{1}{4}\\right)^{\\frac{1}{3}} f_{0} + \\left(\\frac{1}{7}\\right)^{\\frac{1}{3}} f_{1} + \\left(\\frac{1}{10}\\right)^{\\frac{1}{3}} f_{2}</script></html>"
      ],
      "text/plain": [
       "(1/4)^(1/3)*f0 + (1/7)^(1/3)*f1 + (1/10)^(1/3)*f2"
      ]
     },
     "execution_count": 430,
     "metadata": {},
     "output_type": "execute_result"
    }
   ],
   "source": [
    "Ly(qmoments_degree_eight_q_three, f)"
   ]
  },
  {
   "cell_type": "markdown",
   "metadata": {
    "deletable": true,
    "editable": true
   },
   "source": [
    "We have added the possibility of taking the elementwise absolute value of $f$, thus evaluating $\\sum_\\alpha |f_\\alpha| z_{\\alpha, q}$. For example,"
   ]
  },
  {
   "cell_type": "code",
   "execution_count": 431,
   "metadata": {
    "collapsed": false,
    "deletable": true,
    "editable": true
   },
   "outputs": [
    {
     "data": {
      "text/html": [
       "<html><script type=\"math/tex; mode=display\">\\newcommand{\\Bold}[1]{\\mathbf{#1}}\\left(\\frac{1}{4}\\right)^{\\frac{1}{3}} {\\left| f_{0} \\right|} + \\left(\\frac{1}{7}\\right)^{\\frac{1}{3}} {\\left| f_{1} \\right|} + \\left(\\frac{1}{10}\\right)^{\\frac{1}{3}} {\\left| f_{2} \\right|}</script></html>"
      ],
      "text/plain": [
       "(1/4)^(1/3)*abs(f0) + (1/7)^(1/3)*abs(f1) + (1/10)^(1/3)*abs(f2)"
      ]
     },
     "execution_count": 431,
     "metadata": {},
     "output_type": "execute_result"
    }
   ],
   "source": [
    "Ly(qmoments_degree_eight_q_three, f, abs_elementwise=True)"
   ]
  },
  {
   "cell_type": "markdown",
   "metadata": {
    "deletable": true,
    "editable": true
   },
   "source": [
    "#### Lebesgue integral of $f \\in \\R[x]$ in the $q$ norm"
   ]
  },
  {
   "cell_type": "markdown",
   "metadata": {
    "deletable": true,
    "editable": true
   },
   "source": [
    "Consider $\\Vert f \\Vert_q = \\Vert f_0 + f_1 x\\Vert_q$ over $\\K$. As before, there are two ways:\n",
    "\n",
    "- To compute the integral numerically we shall fix values for the coefficients.\n",
    "- Compute the integral symbolically."
   ]
  },
  {
   "cell_type": "code",
   "execution_count": 411,
   "metadata": {
    "collapsed": false,
    "deletable": true,
    "editable": true
   },
   "outputs": [],
   "source": [
    "def norm_q(f, K=None, q=1, algorithm='numerical'):\n",
    "    r\"\"\"Compute the q-norm of a polynomial over a polytope.\n",
    "    \n",
    "    TESTS::\n",
    "    \n",
    "    By default, use numerical algorithm::\n",
    "    \n",
    "        sage: norm_q(x)\n",
    "        0.5\n",
    "        sage: norm_q(x^3)\n",
    "        0.25\n",
    "        \n",
    "    We can make exact computations with even exponent as well::\n",
    "    \n",
    "        sage: norm_q(x, q=2, algorithm='exact')\n",
    "        sqrt(1/3)\n",
    "        sage: norm_q(1 - 2*x^3 + x^4, q=4, algorithm='exact')\n",
    "        (240167/510510)^(1/4)\n",
    "    \"\"\"\n",
    "    if K is None:\n",
    "        if algorithm == 'numerical':\n",
    "            # unit interval\n",
    "            K = RealSet([0, 1])[0]\n",
    "        elif algorithm == 'exact':\n",
    "            # unit polyhedron\n",
    "            K = Polyhedron(vertices=[[0], [1]])\n",
    "            \n",
    "    if algorithm == 'numerical':\n",
    "        # assuming K is a RealSet\n",
    "        from sage.sets.real_set import InternalRealInterval\n",
    "        assert(isinstance(K, InternalRealInterval))\n",
    "        \n",
    "        xmin = K.lower(); xmax = K.upper()\n",
    "        \n",
    "        # assuming x = SR.var('x') or assert(f.variables()[0] in SR)\n",
    "        if not f.variables()[0] in SR:\n",
    "            f = sum([SR.var('x')^k * fi for k, fi in enumerate(f.coefficients())])\n",
    "            \n",
    "        ans = numerical_integral(abs(f)^q, xmin, xmax)[0]^(1/q)\n",
    "        \n",
    "        # alternatives:\n",
    "        #ans = numerical_integral(exp(q*log(abs(f)), xmin, xmax)[0]^(1/q) \n",
    "        #ans = integrate(exp(q*log(abs(f)), xmin, xmax, algorithm='giac')[0]^(1/q)\n",
    "        \n",
    "    elif algorithm == 'exact':\n",
    "        # assuming K is a Polyhedron\n",
    "        #from sage.geometry.polyhedron.base import Polyhedron\n",
    "        #assert(isinstance(K, Polyhedron)) # wrong: should be a derived class\n",
    "        \n",
    "        # since we cannot do abs(f), we restrict to integer and even q\n",
    "        if not q.is_integer():\n",
    "            raise ValueError(\"The exact algorithm requires integer q\")\n",
    "        if not q.mod(2) == 0:\n",
    "            raise ValueError(\"The exact algorithm requires even q\")\n",
    "            \n",
    "        # assuming x = polygen(QQ, 'x')\n",
    "        ans = K.integrate(f^q)^(1/q)\n",
    "        \n",
    "    else:\n",
    "        raise ValueError(\"Algorithm not recognised. Use numerical or exact.\")\n",
    "    \n",
    "    return ans"
   ]
  },
  {
   "cell_type": "code",
   "execution_count": 413,
   "metadata": {
    "collapsed": false,
    "deletable": true,
    "editable": true
   },
   "outputs": [
    {
     "data": {
      "text/html": [
       "<html><script type=\"math/tex; mode=display\">\\newcommand{\\Bold}[1]{\\mathbf{#1}}\\frac{1}{3} \\, \\sqrt{\\frac{533}{14}}</script></html>"
      ],
      "text/plain": [
       "1/3*sqrt(533/14)"
      ]
     },
     "execution_count": 413,
     "metadata": {},
     "output_type": "execute_result"
    }
   ],
   "source": [
    "# Example\n",
    "x = polygen(QQ, 'x')\n",
    "norm_q(2-x+x^4+x^2, q=2, algorithm='exact')"
   ]
  },
  {
   "cell_type": "code",
   "execution_count": 414,
   "metadata": {
    "collapsed": false,
    "deletable": true,
    "editable": true
   },
   "outputs": [
    {
     "data": {
      "text/html": [
       "<html><script type=\"math/tex; mode=display\">\\newcommand{\\Bold}[1]{\\mathbf{#1}}2.05673496838040</script></html>"
      ],
      "text/plain": [
       "2.05673496838040"
      ]
     },
     "execution_count": 414,
     "metadata": {},
     "output_type": "execute_result"
    }
   ],
   "source": [
    "_.n()"
   ]
  },
  {
   "cell_type": "code",
   "execution_count": 416,
   "metadata": {
    "collapsed": false,
    "deletable": true,
    "editable": true
   },
   "outputs": [
    {
     "data": {
      "text/html": [
       "<html><script type=\"math/tex; mode=display\">\\newcommand{\\Bold}[1]{\\mathbf{#1}}2.05673496838</script></html>"
      ],
      "text/plain": [
       "2.0567349683804013"
      ]
     },
     "execution_count": 416,
     "metadata": {},
     "output_type": "execute_result"
    }
   ],
   "source": [
    "x = var('x')\n",
    "norm_q(2-x+x^4+x^2, q=2, algorithm='numerical')"
   ]
  },
  {
   "cell_type": "markdown",
   "metadata": {
    "deletable": true,
    "editable": true
   },
   "source": [
    "#### Testing the previous constructions with concrete examples"
   ]
  },
  {
   "cell_type": "markdown",
   "metadata": {
    "deletable": true,
    "editable": true
   },
   "source": [
    "Consider a 2nd degree polynomial,"
   ]
  },
  {
   "cell_type": "code",
   "execution_count": 421,
   "metadata": {
    "collapsed": false,
    "deletable": true,
    "editable": true
   },
   "outputs": [
    {
     "data": {
      "text/html": [
       "<html><script type=\"math/tex; mode=display\">\\newcommand{\\Bold}[1]{\\mathbf{#1}}f_{2} x^{2} + f_{1} x + f_{0}</script></html>"
      ],
      "text/plain": [
       "f2*x^2 + f1*x + f0"
      ]
     },
     "execution_count": 421,
     "metadata": {},
     "output_type": "execute_result"
    }
   ],
   "source": [
    "# independent variable\n",
    "x, = polygens(SR, 'x')\n",
    "\n",
    "# coefficients (symbolic)\n",
    "f0, f1, f2 = SR.var(['f0', 'f1', 'f2'])\n",
    "\n",
    "f = f0 + f1*x + f2*x^2\n",
    "f"
   ]
  },
  {
   "cell_type": "markdown",
   "metadata": {
    "deletable": true,
    "editable": true
   },
   "source": [
    "In $\\K = [0, 1]$, we can compute $\\Vert f \\Vert_q$ for different values of $q$. We are able to use the exact computation for integer and even exponent."
   ]
  },
  {
   "cell_type": "code",
   "execution_count": 489,
   "metadata": {
    "collapsed": false,
    "deletable": true,
    "editable": true
   },
   "outputs": [
    {
     "data": {
      "text/html": [
       "<html><script type=\"math/tex; mode=display\">\\newcommand{\\Bold}[1]{\\mathbf{#1}}3 x^{2} + 2 x + 1</script></html>"
      ],
      "text/plain": [
       "3*x^2 + 2*x + 1"
      ]
     },
     "execution_count": 489,
     "metadata": {},
     "output_type": "execute_result"
    }
   ],
   "source": [
    "fev = f(f0=1, f1=2, f2=3)\n",
    "fev"
   ]
  },
  {
   "cell_type": "code",
   "execution_count": 490,
   "metadata": {
    "collapsed": false,
    "deletable": true,
    "editable": true
   },
   "outputs": [
    {
     "data": {
      "text/html": [
       "<html><script type=\"math/tex; mode=display\">\\newcommand{\\Bold}[1]{\\mathbf{#1}}f :=  3 x^{2} + 2 x + 1</script></html>"
      ],
      "text/plain": [
       "f :=  3*x^2 + 2*x + 1"
      ]
     },
     "metadata": {},
     "output_type": "display_data"
    },
    {
     "data": {
      "text/html": [
       "<html><script type=\"math/tex; mode=display\">\\newcommand{\\Bold}[1]{\\mathbf{#1}}\\verb|q|\\phantom{\\verb!x!}\\verb|=| 1 \\qquad \\Vert f \\Vert_q =  3.0</script></html>"
      ],
      "text/plain": [
       "'q = ' 1 \\qquad \\Vert f \\Vert_q =  3.0000000000000004"
      ]
     },
     "metadata": {},
     "output_type": "display_data"
    },
    {
     "data": {
      "text/html": [
       "<html><script type=\"math/tex; mode=display\">\\newcommand{\\Bold}[1]{\\mathbf{#1}}\\verb|q|\\phantom{\\verb!x!}\\verb|=| \\frac{3}{2} \\qquad \\Vert f \\Vert_q =  3.17413360888</script></html>"
      ],
      "text/plain": [
       "'q = ' 3/2 \\qquad \\Vert f \\Vert_q =  3.174133608878121"
      ]
     },
     "metadata": {},
     "output_type": "display_data"
    },
    {
     "data": {
      "text/html": [
       "<html><script type=\"math/tex; mode=display\">\\newcommand{\\Bold}[1]{\\mathbf{#1}}\\verb|q|\\phantom{\\verb!x!}\\verb|=| 2 \\qquad \\Vert f \\Vert_q =  \\sqrt{\\frac{167}{15}} \\approx  3.33666500166459</script></html>"
      ],
      "text/plain": [
       "'q = ' 2 \\qquad \\Vert f \\Vert_q =  sqrt(167/15) \\approx  3.33666500166459"
      ]
     },
     "metadata": {},
     "output_type": "display_data"
    },
    {
     "data": {
      "text/html": [
       "<html><script type=\"math/tex; mode=display\">\\newcommand{\\Bold}[1]{\\mathbf{#1}}\\verb|q|\\phantom{\\verb!x!}\\verb|=| \\frac{5}{2} \\qquad \\Vert f \\Vert_q =  3.48556389904</script></html>"
      ],
      "text/plain": [
       "'q = ' 5/2 \\qquad \\Vert f \\Vert_q =  3.4855638990375124"
      ]
     },
     "metadata": {},
     "output_type": "display_data"
    },
    {
     "data": {
      "text/html": [
       "<html><script type=\"math/tex; mode=display\">\\newcommand{\\Bold}[1]{\\mathbf{#1}}\\verb|q|\\phantom{\\verb!x!}\\verb|=| 3 \\qquad \\Vert f \\Vert_q =  3.62048869752</script></html>"
      ],
      "text/plain": [
       "'q = ' 3 \\qquad \\Vert f \\Vert_q =  3.6204886975210298"
      ]
     },
     "metadata": {},
     "output_type": "display_data"
    }
   ],
   "source": [
    "pretty_print(LatexExpr(r\"f := \"), fev)\n",
    "\n",
    "for q in [1, 3/2, 2, 5/2, 3]:\n",
    "    if q.is_integer() and q.mod(2) == 0: \n",
    "        norm_qi = norm_q(fev, q=q, algorithm='exact')\n",
    "        pretty_print( \"q = \", q, LatexExpr(r\"\\qquad \\Vert f \\Vert_q = \"), norm_qi, \\\n",
    "                     LatexExpr(r\"\\approx \"), N(norm_qi))\n",
    "    else:\n",
    "        norm_qi = norm_q(fev, q=q, algorithm='numerical')\n",
    "        pretty_print( \"q = \", q, LatexExpr(r\"\\qquad \\Vert f \\Vert_q = \"), norm_qi )\n",
    "    "
   ]
  },
  {
   "cell_type": "code",
   "execution_count": 491,
   "metadata": {
    "collapsed": false,
    "deletable": true,
    "editable": true
   },
   "outputs": [
    {
     "data": {
      "text/html": [
       "<html><script type=\"math/tex; mode=display\">\\newcommand{\\Bold}[1]{\\mathbf{#1}}f :=  3 x^{2} + 2 x + 1</script></html>"
      ],
      "text/plain": [
       "f :=  3*x^2 + 2*x + 1"
      ]
     },
     "metadata": {},
     "output_type": "display_data"
    },
    {
     "data": {
      "text/html": [
       "<html><script type=\"math/tex; mode=display\">\\newcommand{\\Bold}[1]{\\mathbf{#1}}\\verb|q|\\phantom{\\verb!x!}\\verb|=| 1 \\qquad \\sum_\\alpha |f_\\alpha| z_{\\alpha, q} =  3 \\approx  3.00000000000000</script></html>"
      ],
      "text/plain": [
       "'q = ' 1 \\qquad \\sum_\\alpha |f_\\alpha| z_{\\alpha, q} =  3 \\approx  3.00000000000000"
      ]
     },
     "metadata": {},
     "output_type": "display_data"
    },
    {
     "data": {
      "text/html": [
       "<html><script type=\"math/tex; mode=display\">\\newcommand{\\Bold}[1]{\\mathbf{#1}}\\verb|q|\\phantom{\\verb!x!}\\verb|=| \\frac{3}{2} \\qquad \\sum_\\alpha |f_\\alpha| z_{\\alpha, q} =  3.17413360888</script></html>"
      ],
      "text/plain": [
       "'q = ' 3/2 \\qquad \\sum_\\alpha |f_\\alpha| z_{\\alpha, q} =  3.174133608878121"
      ]
     },
     "metadata": {},
     "output_type": "display_data"
    },
    {
     "data": {
      "text/html": [
       "<html><script type=\"math/tex; mode=display\">\\newcommand{\\Bold}[1]{\\mathbf{#1}}\\verb|q|\\phantom{\\verb!x!}\\verb|=| 2 \\qquad \\sum_\\alpha |f_\\alpha| z_{\\alpha, q} =  2 \\, \\sqrt{\\frac{1}{3}} + 3 \\, \\sqrt{\\frac{1}{5}} + 1 \\approx  3.49634132487913</script></html>"
      ],
      "text/plain": [
       "'q = ' 2 \\qquad \\sum_\\alpha |f_\\alpha| z_{\\alpha, q} =  2*sqrt(1/3) + 3*sqrt(1/5) + 1 \\approx  3.49634132487913"
      ]
     },
     "metadata": {},
     "output_type": "display_data"
    },
    {
     "data": {
      "text/html": [
       "<html><script type=\"math/tex; mode=display\">\\newcommand{\\Bold}[1]{\\mathbf{#1}}\\verb|q|\\phantom{\\verb!x!}\\verb|=| \\frac{5}{2} \\qquad \\sum_\\alpha |f_\\alpha| z_{\\alpha, q} =  3.48556389904</script></html>"
      ],
      "text/plain": [
       "'q = ' 5/2 \\qquad \\sum_\\alpha |f_\\alpha| z_{\\alpha, q} =  3.4855638990375124"
      ]
     },
     "metadata": {},
     "output_type": "display_data"
    },
    {
     "data": {
      "text/html": [
       "<html><script type=\"math/tex; mode=display\">\\newcommand{\\Bold}[1]{\\mathbf{#1}}\\verb|q|\\phantom{\\verb!x!}\\verb|=| 3 \\qquad \\sum_\\alpha |f_\\alpha| z_{\\alpha, q} =  2 \\, \\left(\\frac{1}{4}\\right)^{\\frac{1}{3}} + 3 \\, \\left(\\frac{1}{7}\\right)^{\\frac{1}{3}} + 1 \\approx  3.82819492561900</script></html>"
      ],
      "text/plain": [
       "'q = ' 3 \\qquad \\sum_\\alpha |f_\\alpha| z_{\\alpha, q} =  2*(1/4)^(1/3) + 3*(1/7)^(1/3) + 1 \\approx  3.82819492561900"
      ]
     },
     "metadata": {},
     "output_type": "display_data"
    }
   ],
   "source": [
    "pretty_print(LatexExpr(r\"f := \"), fev)\n",
    "\n",
    "# d should be at least as the degree of f\n",
    "dmin = 1+f.degree()\n",
    "\n",
    "for q in [1, 3/2, 2, 5/2, 3]:\n",
    "    \n",
    "    if q.is_integer():\n",
    "        qmoments = moments_Zq(d=dmin, q=q, algorithm='exact')\n",
    "        ans = Ly(qmoments, fev, abs_elementwise=True)\n",
    "        pretty_print( \"q = \", q, LatexExpr(r\"\\qquad \\sum_\\alpha |f_\\alpha| z_{\\alpha, q} = \"), ans, \\\n",
    "                     LatexExpr(r\"\\approx \"), N(ans))\n",
    "    else:\n",
    "        ans = norm_q(fev, q=q, algorithm='numerical')\n",
    "        pretty_print( \"q = \", q, LatexExpr(r\"\\qquad \\sum_\\alpha |f_\\alpha| z_{\\alpha, q} = \"), ans )\n",
    "    "
   ]
  },
  {
   "cell_type": "markdown",
   "metadata": {
    "deletable": true,
    "editable": true
   },
   "source": [
    "By the triangle inequality, one has that:\n",
    "$$\n",
    "\\Vert f \\Vert_q  = \\left\\Vert \\sum_\\alpha f_\\alpha x^\\alpha \\right\\Vert_q\\leq \\sum_{\\alpha} |f_\\alpha| z_{\\alpha, q}.\n",
    "$$\n",
    "\n",
    "In some concrete examples:\n",
    "\n",
    "In $\\K = [0, 1]$ and with $q=1$,\n",
    "\n",
    "a. $\\Vert 3x^2 - 2x + 1\\Vert_1 = 1 < \\sum_{\\alpha} |f_\\alpha| z_{\\alpha, 1} = 3$.\n",
    "\n",
    "b. $\\Vert 3x^2 + 2x + 1\\Vert_1 = 3 = \\sum_{\\alpha} |f_\\alpha| z_{\\alpha, 1} = 3$."
   ]
  },
  {
   "cell_type": "markdown",
   "metadata": {
    "deletable": true,
    "editable": true
   },
   "source": [
    "This concludes the presentation of moment sequence computation using SageMath."
   ]
  },
  {
   "cell_type": "markdown",
   "metadata": {},
   "source": [
    "**Perspectives : **\n",
    "\n",
    "- computational representation of an infinite sequence (moments sequence)\n",
    "- moments matrix and localizing matrix\n",
    "- interaction with the semidefinite programming interface"
   ]
  }
 ],
 "metadata": {
  "kernelspec": {
   "display_name": "SageMath 8.0.beta3",
   "language": "",
   "name": "sagemath"
  },
  "language_info": {
   "codemirror_mode": {
    "name": "ipython",
    "version": 2
   },
   "file_extension": ".py",
   "mimetype": "text/x-python",
   "name": "python",
   "nbconvert_exporter": "python",
   "pygments_lexer": "ipython2",
   "version": "2.7.13"
  }
 },
 "nbformat": 4,
 "nbformat_minor": 2
}
